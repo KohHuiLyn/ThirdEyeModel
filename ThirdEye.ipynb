{
 "cells": [
  {
   "cell_type": "markdown",
   "metadata": {},
   "source": [
    "<h1>Final Year Project - The Third Eye </h1>\n",
    "Done by: See Zhuo Yi Joey (2011927), Liu Zhen (2021250), Koh Hui Lyn (2021672) and Ang Jun Hoa (2040295)\n",
    "<br/>Project Aim: Using computer vision to aid coach’s analysis of a bowler’s performance by producing consistent and accurate intelligent analysis.\n",
    "<br/>Modules Required: MediaPipe, OpenCV\n"
   ]
  },
  {
   "cell_type": "markdown",
   "metadata": {},
   "source": [
    "<h2>Installing Required Packages</h2>"
   ]
  },
  {
   "cell_type": "code",
   "execution_count": 84,
   "metadata": {},
   "outputs": [],
   "source": [
    "# pip install mediapipe\n",
    "# pip install opencv-python"
   ]
  },
  {
   "cell_type": "markdown",
   "metadata": {},
   "source": [
    "<h2>Importing</h2>"
   ]
  },
  {
   "cell_type": "code",
   "execution_count": 85,
   "metadata": {},
   "outputs": [],
   "source": [
    "import cv2\n",
    "import time\n",
    "import math as m\n",
    "import mediapipe as mp\n",
    "import os\n",
    "import datetime"
   ]
  },
  {
   "cell_type": "markdown",
   "metadata": {},
   "source": [
    "<h2>Functions</h2>"
   ]
  },
  {
   "cell_type": "code",
   "execution_count": 86,
   "metadata": {},
   "outputs": [],
   "source": [
    "# Find Distance between 2 points\n",
    "def findDistance(x1, y1, x2, y2):\n",
    "    dist = m.sqrt((x2-x1)**2+(y2-y1)**2)\n",
    "    return dist\n",
    "\n",
    "# Calculate angle\n",
    "def findAngle(x1, y1, x2, y2):\n",
    "    theta = m.acos((y2 -y1)*(-y1) / (m.sqrt((x2 - x1)**2 + (y2 - y1)**2) * y1))\n",
    "    degree = int(180/m.pi)*theta\n",
    "    return degree\n",
    "\n",
    "# Calculate difference of x-coordinate of two points\n",
    "def findX(x_knee,x_hand):\n",
    "  X = x_hand - x_knee\n",
    "  return X\n"
   ]
  },
  {
   "cell_type": "markdown",
   "metadata": {},
   "source": [
    "<h2>Utils</h2>"
   ]
  },
  {
   "cell_type": "code",
   "execution_count": 87,
   "metadata": {},
   "outputs": [],
   "source": [
    "# Font (For OpenCV Video)\n",
    "font = cv2.FONT_HERSHEY_SIMPLEX\n",
    "\n",
    "# Colors\n",
    "blue = (255, 127, 0)\n",
    "red = (50, 50, 255)\n",
    "green = (127, 255, 0)\n",
    "dark_blue = (127, 20, 0)\n",
    "light_green = (127, 233, 100)\n",
    "yellow = (0, 255, 255)\n",
    "pink = (255, 0, 255)"
   ]
  },
  {
   "cell_type": "code",
   "execution_count": 88,
   "metadata": {},
   "outputs": [],
   "source": [
    "# Using Mediapipe Pose\n",
    "mp_pose = mp.solutions.pose\n",
    "pose = mp_pose.Pose()\n",
    "\n",
    "# Choose which video to use\n",
    "# ((For webcam input replace file name with 0))\n",
    "file_name = './videos/don/THISVIDEOWORKSGUYS.mp4'\n",
    "cap = cv2.VideoCapture(file_name)\n",
    "\n",
    "# CV2  properties\n",
    "fps = int(cap.get(cv2.CAP_PROP_FPS))\n",
    "width = int(cap.get(cv2.CAP_PROP_FRAME_WIDTH))\n",
    "height = int(cap.get(cv2.CAP_PROP_FRAME_HEIGHT))\n",
    "frame_size = (width, height)\n",
    "fourcc = cv2.VideoWriter_fourcc(*'mp4v')\n",
    "\n",
    "# Initialize video writer. might take a look at this again.\n",
    "video_output = cv2.VideoWriter('test_{0}.mp4'.format(datetime.datetime.now().strftime(\"%d-%m-%Y\")), fourcc, fps, frame_size)"
   ]
  },
  {
   "cell_type": "markdown",
   "metadata": {},
   "source": [
    "<h2>Main Code</h2>"
   ]
  },
  {
   "cell_type": "code",
   "execution_count": 89,
   "metadata": {},
   "outputs": [
    {
     "name": "stdout",
     "output_type": "stream",
     "text": [
      "Starting...\n",
      "214.0\n",
      "No frames left to process!!!\n",
      "Video is done!\n"
     ]
    }
   ],
   "source": [
    "print('Starting...')\n",
    "steps = 0\n",
    "stage = None\n",
    "max_dis = 0\n",
    "access = 1\n",
    "ball_release = None\n",
    "currentframenumber=dict.fromkeys([\"Angle1\",\"Angle2\",\"Angle3\",\"Angle4\",\"Angle5\",\"Release\"])\n",
    "while cap.isOpened():\n",
    "    # Capture frames\n",
    "    success, image = cap.read()\n",
    "    if not success:\n",
    "        print(\"No frames left to process!!!\")\n",
    "        break\n",
    "    # Get fps, height and width\n",
    "    fps = cap.get(cv2.CAP_PROP_FPS)\n",
    "    h, w = image.shape[:2]\n",
    "    # Convert the BGR image to RGB\n",
    "    image = cv2.cvtColor(image, cv2.COLOR_BGR2RGB)\n",
    "    # Process the frame with Mediapipe Pose\n",
    "    keypoints = pose.process(image)\n",
    "    # Convert the image back to BGR\n",
    "    image = cv2.cvtColor(image, cv2.COLOR_RGB2BGR)\n",
    "\n",
    "    #============ Getting landmarks ============\n",
    "    lm = keypoints.pose_landmarks\n",
    "    lmPose = mp_pose.PoseLandmark\n",
    "\n",
    "    # For Angle Component \n",
    "    l_shldr_x = int(lm.landmark[lmPose.LEFT_SHOULDER].x * w)\n",
    "    l_shldr_y = int(lm.landmark[lmPose.LEFT_SHOULDER].y * h)\n",
    "    r_shldr_x = int(lm.landmark[lmPose.RIGHT_SHOULDER].x * w)\n",
    "    r_shldr_y = int(lm.landmark[lmPose.RIGHT_SHOULDER].y * h)\n",
    "    l_ear_x = int(lm.landmark[lmPose.LEFT_EAR].x * w)\n",
    "    l_ear_y = int(lm.landmark[lmPose.LEFT_EAR].y * h)\n",
    "    l_hip_x = int(lm.landmark[lmPose.LEFT_HIP].x * w)\n",
    "    l_hip_y = int(lm.landmark[lmPose.LEFT_HIP].y * h)\n",
    "\n",
    "    # Ankles for feet distance calculation\n",
    "    l_ank_x = int(lm.landmark[lmPose.LEFT_ANKLE].x * 100)\n",
    "    l_ank_y = int(lm.landmark[lmPose.LEFT_ANKLE].y * 100)\n",
    "    r_ank_x = int(lm.landmark[lmPose.RIGHT_ANKLE].x * 100)\n",
    "    r_ank_y = int(lm.landmark[lmPose.RIGHT_ANKLE].y * 100)\n",
    "\n",
    "    # For Timing Component\n",
    "    r_wrist_x = int(lm.landmark[lmPose.RIGHT_WRIST].x * w)\n",
    "    r_knee_x = int(lm.landmark[lmPose.RIGHT_KNEE].x * w)\n",
    "    l_knee_x = int(lm.landmark[lmPose.LEFT_KNEE].x * w)\n",
    "\n",
    "    #============ Functions ============\n",
    "    # Check for Camera Alignment to be in Proper Sideview\n",
    "    offset = findDistance(l_shldr_x, l_shldr_y, r_shldr_x, r_shldr_y)\n",
    "    if offset < 100:\n",
    "        cv2.putText(image, str(int(offset)) + ' Aligned', (w - 150, 30), font, 0.9, green, 2)\n",
    "    else:\n",
    "        cv2.putText(image, str(int(offset)) + ' Not Aligned', (w - 150, 30), font, 0.9, red, 2)\n",
    "\n",
    "    feetDist = findDistance(l_ank_x, l_ank_y, r_ank_x, r_ank_y)\n",
    "\n",
    "    # Steps Counter (To be improved - ie Thresholds improvements)\n",
    "    if steps < 5:\n",
    "        if feetDist > 7 and stage == 'up':\n",
    "            steps += 1\n",
    "            # print(\"step \",steps)\n",
    "            # print(\"left \",l_ank_y)\n",
    "            # print(\"right \",r_ank_y)\n",
    "            stage = \"down\"\n",
    "        elif feetDist < 5:\n",
    "            stage = \"up\"\n",
    "    # Timing Component\n",
    "    if steps == 5:\n",
    "        if feetDist > max_dis and access == 1:\n",
    "            max_dis = feetDist\n",
    "        elif ball_release == None:\n",
    "            # print(feetDist)\n",
    "            currentframenumber['Release']=[cap.get(cv2.CAP_PROP_POS_FRAMES)+1]\n",
    "            print(cap.get(cv2.CAP_PROP_POS_FRAMES))\n",
    "            access = 0\n",
    "            # check distance between hand and knee\n",
    "            ball_train_feet_dis = findX(r_knee_x, r_wrist_x)\n",
    "            ball_slide_feet_dis = findX(l_knee_x, r_wrist_x)\n",
    "            if ball_train_feet_dis < 0:\n",
    "                ball_release = \"Late\"\n",
    "            elif ball_train_feet_dis > 0 and ball_slide_feet_dis < 0:\n",
    "                ball_release = \"Traditional\"\n",
    "            elif ball_slide_feet_dis > 0:\n",
    "                ball_release = \"Early\"\n",
    "                \n",
    "\n",
    "    # Calculate torso and neck angles\n",
    "    neck_inclination = findAngle(l_shldr_x, l_shldr_y, l_ear_x, l_ear_y)\n",
    "    torso_inclination = findAngle(l_hip_x, l_hip_y, l_shldr_x, l_shldr_y)\n",
    "\n",
    "    #============ Annotations onto video ============\n",
    "    # Draw landmarks\n",
    "    cv2.circle(image, (l_shldr_x, l_shldr_y), 7, yellow, -1)\n",
    "    cv2.circle(image, (l_ear_x, l_ear_y), 7, yellow, -1)\n",
    "    cv2.circle(image, (l_shldr_x, l_shldr_y - 100), 7, yellow, -1)\n",
    "    # Right shoulder is pink ball\n",
    "    cv2.circle(image, (r_shldr_x, r_shldr_y), 7, pink, -1)\n",
    "    cv2.circle(image, (l_hip_x, l_hip_y), 7, yellow, -1)\n",
    "    cv2.circle(image, (l_hip_x, l_hip_y - 100), 7, yellow, -1)\n",
    "\n",
    "    # Text for Neck/Torso Angle, Feet distance & Steps\n",
    "    angle_text_string = 'Neck : ' + str(int(neck_inclination)) + '  Torso : ' + str(int(torso_inclination)) + ' Feet distance: '+ str(int(feetDist)) + ' Steps: '+ str(int(steps))  + 'Release: '+ str(ball_release)\n",
    "    cv2.putText(image, angle_text_string, (10, 50), font, 0.8, dark_blue, 4)\n",
    "\n",
    "    # Display angles on the annotation\n",
    "    cv2.putText(image, str(int(neck_inclination)), (l_shldr_x + 10, l_shldr_y), font, 1.2, pink, 2)\n",
    "    cv2.putText(image, str(int(torso_inclination)), (l_hip_x + 10, l_hip_y), font, 1.2, pink, 2)\n",
    "\n",
    "    # Join landmarks\n",
    "    cv2.line(image, (l_shldr_x, l_shldr_y), (l_ear_x, l_ear_y), green, 4)\n",
    "    cv2.line(image, (l_shldr_x, l_shldr_y), (l_shldr_x, l_shldr_y - 100), green, 4)\n",
    "    cv2.line(image, (l_hip_x, l_hip_y), (l_shldr_x, l_shldr_y), green, 4)\n",
    "    cv2.line(image, (l_hip_x, l_hip_y), (l_hip_x, l_hip_y - 100), green, 4)\n",
    "    # if torso_inclination >= 43:\n",
    "    #     detectedFrame = cap.get(cv2.CAP_PROP_POS_FRAMES)\n",
    "    #     currentframenumber.append(detectedFrame-3)\n",
    "    # # Write frames.\n",
    "    # video_output.write(image)\n",
    "\n",
    "    # Write frames.\n",
    "    video_output.write(image)\n",
    "print('Video is done!')\n",
    "cap.release()\n",
    "video_output.release()"
   ]
  },
  {
   "cell_type": "code",
   "execution_count": 90,
   "metadata": {},
   "outputs": [
    {
     "name": "stdout",
     "output_type": "stream",
     "text": [
      "{'Angle1': None, 'Angle2': None, 'Angle3': None, 'Angle4': None, 'Angle5': None, 'Release': [214.0]}\n"
     ]
    }
   ],
   "source": [
    "print(currentframenumber)"
   ]
  },
  {
   "cell_type": "markdown",
   "metadata": {},
   "source": [
    "# Re-Reading Analysed Video for Screenshotting\n"
   ]
  },
  {
   "cell_type": "code",
   "execution_count": null,
   "metadata": {},
   "outputs": [],
   "source": []
  },
  {
   "cell_type": "code",
   "execution_count": 95,
   "metadata": {},
   "outputs": [
    {
     "name": "stdout",
     "output_type": "stream",
     "text": [
      "214.0\n",
      "1\n",
      "Read a new frame:  True\n"
     ]
    }
   ],
   "source": [
    "path ='./Analysedphoto'\n",
    "isExist = os.path.exists(path)\n",
    "\n",
    "if not isExist:\n",
    "  # Create a new directory because it does not exist \n",
    "  os.makedirs(path)\n",
    "  print(\"Analysedphoto folder is created!\")\n",
    "\n",
    "cap=cv2.VideoCapture('test_12-07-2022.mp4')\n",
    "ret,frame= cap.read()\n",
    "x=0\n",
    "bool=True\n",
    "testing=[212.0]\n",
    "frameLen=int(cap.get(cv2.CAP_PROP_FRAME_COUNT))\n",
    "while bool:\n",
    "    for i in range(0,frameLen,1):\n",
    "        if x>=len(testing):\n",
    "            bool=False\n",
    "            break\n",
    "        # print(\"iv1 \", i)\n",
    "        # print(x<len(currentframenumber))\n",
    "        ret,frame= cap.read()\n",
    "        if i== testing[x]:\n",
    "            print(cap.get(cv2.CAP_PROP_POS_FRAMES))\n",
    "            # print(\"iv2\", i)\n",
    "            x=x+1\n",
    "            print(x)\n",
    "            cv2.imwrite(\"Analysedphoto/frame%d.jpg\" % i, frame)     # save frame as JPEG file      \n",
    "            print('Read a new frame: ', ret)\n",
    "        "
   ]
  }
 ],
 "metadata": {
  "kernelspec": {
   "display_name": "Python 3.8.6 ('env': venv)",
   "language": "python",
   "name": "python3"
  },
  "language_info": {
   "codemirror_mode": {
    "name": "ipython",
    "version": 3
   },
   "file_extension": ".py",
   "mimetype": "text/x-python",
   "name": "python",
   "nbconvert_exporter": "python",
   "pygments_lexer": "ipython3",
   "version": "3.8.6"
  },
  "orig_nbformat": 4,
  "vscode": {
   "interpreter": {
    "hash": "6497ffc43046e9b99700b2fd514b7003683297493832ee46b66e3ae223853333"
   }
  }
 },
 "nbformat": 4,
 "nbformat_minor": 2
}
