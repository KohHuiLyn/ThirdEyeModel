{
 "cells": [
  {
   "cell_type": "markdown",
   "metadata": {},
   "source": [
    "Test ball detection\n"
   ]
  },
  {
   "cell_type": "code",
   "execution_count": 25,
   "metadata": {},
   "outputs": [],
   "source": [
    "import cv2 \n",
    "import numpy as np "
   ]
  },
  {
   "cell_type": "code",
   "execution_count": 26,
   "metadata": {},
   "outputs": [],
   "source": [
    "# Choose which video to use\n",
    "# ((For webcam input replace file name with 0))\n",
    "file_name = './videos/moving5.mov'\n",
    "cap = cv2.VideoCapture(file_name)"
   ]
  },
  {
   "cell_type": "code",
   "execution_count": 27,
   "metadata": {},
   "outputs": [
    {
     "name": "stderr",
     "output_type": "stream",
     "text": [
      "C:\\Users\\kohhu\\AppData\\Local\\Temp/ipykernel_24768/577874171.py:2: RuntimeWarning: overflow encountered in ushort_scalars\n",
      "  dist = lambda x1, y1, x2, y2: (x1-x2)**2 + (y1-y2) **2\n"
     ]
    }
   ],
   "source": [
    "prevCircle = None\n",
    "dist = lambda x1, y1, x2, y2: (x1-x2)**2 + (y1-y2) **2\n",
    "while cap.isOpened():\n",
    "    ret, frame = cap.read()\n",
    "    if ret:\n",
    "        # Making frame gray and blurring to get rid of noise\n",
    "        grayFrame = cv2.cvtColor(frame, cv2.COLOR_BGR2GRAY)\n",
    "        blurFrame = cv2.GaussianBlur(grayFrame,(17,17),0)\n",
    "\n",
    "        #returns a list called circles with possible circles in video\n",
    "        #dp 1, 1.2,1.4 | param1 = sensitivity of circle detection | param2 = accuracy of circle detection (number of edge points to declare it as a circle)\n",
    "        circles = cv2.HoughCircles(blurFrame, cv2.HOUGH_GRADIENT, 1.2, 100, \n",
    "                    param1=150, param2=35, minRadius= 100, maxRadius= 1000)\n",
    "        \n",
    "        if circles is not None:\n",
    "            circles = np.uint16(np.around(circles))\n",
    "            chosen = None\n",
    "            #take the best circle\n",
    "            for i in circles[0,:]:\n",
    "                if chosen is None: chosen = i\n",
    "                if prevCircle is not None:\n",
    "                    if dist(chosen[0], chosen[1], prevCircle[0], prevCircle[1]) <= dist(i[0], i[1], prevCircle[0], prevCircle[1]):\n",
    "                        chosen = i\n",
    "            cv2.circle(frame, (chosen[0], chosen[1]), 1, (0,100,100), 3)\n",
    "            cv2.circle(frame, (chosen[0], chosen[1]), chosen[2], (255,0,255),3)\n",
    "            prevCircle = chosen\n",
    "        cv2.imshow(\"Circles\", frame)\n",
    "    else:\n",
    "        #no more frames left\n",
    "        print('Looping')\n",
    "        cap.set(cv2.CAP_PROP_POS_FRAMES, 0)\n",
    "        continue\n",
    "    if cv2.waitKey(10) & 0xFF==ord('q'):\n",
    "        break\n",
    "        \n",
    "cap.release()\n",
    "cv2.destroyAllWindows()"
   ]
  },
  {
   "cell_type": "code",
   "execution_count": null,
   "metadata": {},
   "outputs": [],
   "source": []
  }
 ],
 "metadata": {
  "interpreter": {
   "hash": "51181943db1b0af0f2f09fb667233573d956bc74874063b6f328e94a3890e77c"
  },
  "kernelspec": {
   "display_name": "Python 3.9.7 ('tensorflowgpu2')",
   "language": "python",
   "name": "python3"
  },
  "language_info": {
   "codemirror_mode": {
    "name": "ipython",
    "version": 3
   },
   "file_extension": ".py",
   "mimetype": "text/x-python",
   "name": "python",
   "nbconvert_exporter": "python",
   "pygments_lexer": "ipython3",
   "version": "3.9.7"
  },
  "orig_nbformat": 4
 },
 "nbformat": 4,
 "nbformat_minor": 2
}
